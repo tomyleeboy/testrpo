{
    "cells": [
        {
            "cell_type": "markdown",
            "metadata": {},
            "source": "# Description\nThis notebook is a test"
        },
        {
            "cell_type": "code",
            "execution_count": 3,
            "metadata": {},
            "outputs": [
                {
                    "name": "stdout",
                    "output_type": "stream",
                    "text": "+-------------------+-------------------+----------------------+------------------+------------------+------------+---------------+----------------------+---------------------+\n|               DATE|HOURLYDewPointTempF|HOURLYRelativeHumidity|HOURLYDRYBULBTEMPF|HOURLYWETBULBTEMPF|HOURLYPrecip|HOURLYWindSpeed|HOURLYSeaLevelPressure|HOURLYStationPressure|\n+-------------------+-------------------+----------------------+------------------+------------------+------------+---------------+----------------------+---------------------+\n|2015-07-25 13:51:00|                 60|                    46|                83|                68|        0.00|             13|                 30.01|                29.99|\n|2016-11-18 23:51:00|                 34|                    48|                53|                44|        0.00|              6|                 30.05|                30.03|\n|2013-01-06 08:51:00|                 33|                    89|                36|                35|        0.00|             13|                 30.14|                30.12|\n|2011-01-27 16:51:00|                 18|                    48|                36|                30|        0.00|             14|                 29.82|                 29.8|\n|2015-01-03 12:16:00|                 27|                    61|                39|                34|           T|             11|                    NA|                 30.5|\n+-------------------+-------------------+----------------------+------------------+------------------+------------+---------------+----------------------+---------------------+\nonly showing top 5 rows\n\n"
                },
                {
                    "data": {
                        "text/plain": "configurationName = os_2a14375454d846ce9ac211dc64410827_configs\ncos = com.ibm.ibmos2spark.CloudObjectStorage@3d172a24\nspark = org.apache.spark.sql.SparkSession@8a2b0482\ndfData1 = [DATE: timestamp, HOURLYDewPointTempF: string ... 7 more fields]\n"
                    },
                    "metadata": {},
                    "output_type": "display_data"
                },
                {
                    "data": {
                        "text/plain": "getCredentials: ()scala.collection.mutable.HashMap[String,String]\n"
                    },
                    "metadata": {},
                    "output_type": "display_data"
                },
                {
                    "data": {
                        "text/plain": "[DATE: timestamp, HOURLYDewPointTempF: string ... 7 more fields]"
                    },
                    "execution_count": 3,
                    "metadata": {},
                    "output_type": "execute_result"
                }
            ],
            "source": "// The code was removed by Watson Studio for sharing."
        }
    ],
    "metadata": {
        "kernelspec": {
            "display_name": "Scala 2.12 with Spark",
            "language": "scala",
            "name": "scala"
        },
        "language_info": {
            "codemirror_mode": "text/x-scala",
            "file_extension": ".scala",
            "mimetype": "text/x-scala",
            "name": "scala",
            "pygments_lexer": "scala",
            "version": "2.12.15"
        }
    },
    "nbformat": 4,
    "nbformat_minor": 1
}